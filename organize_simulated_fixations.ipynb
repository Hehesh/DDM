{
 "cells": [
  {
   "cell_type": "markdown",
   "id": "071d2e0b",
   "metadata": {},
   "source": [
    "# Organizing simulated fixations"
   ]
  },
  {
   "cell_type": "markdown",
   "id": "6d412f81",
   "metadata": {},
   "source": [
    "This notebook organized simulated fixations, in the form of a result_df, and prepares data for model free analysis following Brenden Eum's code with the exception of trial, and fix_num_rev columns, and the addition of choice, RT, avgWTP_left, and avgWTP_right."
   ]
  },
  {
   "cell_type": "code",
   "execution_count": 11,
   "id": "125bc509",
   "metadata": {},
   "outputs": [],
   "source": [
    "import pandas as pd\n",
    "import numpy as np\n",
    "import os\n",
    "import ast\n",
    "\n",
    "parent_dir = '/Users/braydenchien/Desktop/Enkavilab/DDM/simulated_data'\n",
    "path = 'sim_trials_s42_d0.45_t0.38_n0.55.csv'\n",
    "\n",
    "df = pd.read_csv(os.path.join(parent_dir, path))\n",
    "df['fixation'] = df['fixation'].apply(ast.literal_eval)\n",
    "df['trial'] = np.arange(1, len(df) + 1)"
   ]
  },
  {
   "cell_type": "code",
   "execution_count": 12,
   "id": "47eb8bef",
   "metadata": {},
   "outputs": [],
   "source": [
    "import pandas as pd\n",
    "\n",
    "def reformat_fixations(df):\n",
    "    new_rows = []\n",
    "\n",
    "    for idx, row in df.iterrows():\n",
    "        fixation_sequence = row['fixation']\n",
    "        if not fixation_sequence:\n",
    "            continue\n",
    "\n",
    "        fix_num = 1\n",
    "        i = 0\n",
    "        while i < len(fixation_sequence):\n",
    "            val = fixation_sequence[i]\n",
    "\n",
    "            if val in (1, 2):\n",
    "                start_idx = i\n",
    "                current_loc = val\n",
    "                while i + 1 < len(fixation_sequence) and fixation_sequence[i + 1] == current_loc:\n",
    "                    i += 1\n",
    "                end_idx = i + 1  # exclusive\n",
    "                fix_dur = end_idx - start_idx\n",
    "\n",
    "                new_rows.append({\n",
    "                    'trial': row['trial'],\n",
    "                    'choice': row['choice'],\n",
    "                    'RT': row['RT'],\n",
    "                    'avgWTP_left': row['avgWTP_left'],\n",
    "                    'avgWTP_right': row['avgWTP_right'],\n",
    "                    'fix_num': fix_num,\n",
    "                    'location': current_loc,\n",
    "                    'fix_start': start_idx,\n",
    "                    'fix_end': end_idx,\n",
    "                    'fix_dur': fix_dur\n",
    "                })\n",
    "                fix_num += 1\n",
    "            i += 1\n",
    "\n",
    "    result_df = pd.DataFrame(new_rows)\n",
    "\n",
    "    result_df['fix_num_rev'] = result_df.groupby('trial')['fix_num'].transform(\n",
    "        lambda x: x.max() - x + 1\n",
    "    )\n",
    "\n",
    "    return result_df"
   ]
  },
  {
   "cell_type": "code",
   "execution_count": 13,
   "id": "c2ae8252",
   "metadata": {},
   "outputs": [],
   "source": [
    "formatted_df = reformat_fixations(df)\n",
    "formatted_df.to_csv(os.path.join('formatted_data', path), index=False)"
   ]
  }
 ],
 "metadata": {
  "kernelspec": {
   "display_name": "DDM",
   "language": "python",
   "name": "python3"
  },
  "language_info": {
   "codemirror_mode": {
    "name": "ipython",
    "version": 3
   },
   "file_extension": ".py",
   "mimetype": "text/x-python",
   "name": "python",
   "nbconvert_exporter": "python",
   "pygments_lexer": "ipython3",
   "version": "3.12.9"
  }
 },
 "nbformat": 4,
 "nbformat_minor": 5
}
