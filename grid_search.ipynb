{
 "cells": [
  {
   "cell_type": "markdown",
   "id": "d7f8e528",
   "metadata": {},
   "source": [
    "# Grid Search"
   ]
  },
  {
   "cell_type": "markdown",
   "id": "1391e3ba",
   "metadata": {},
   "source": [
    "Recent progress on the parameter recovery exercise has pointed towards unstable regions and interactive effects between parameter combinations. Thus, a grid search may dispell any questions.\n",
    "\n",
    "First, define the model."
   ]
  },
  {
   "cell_type": "code",
   "execution_count": 1,
   "id": "005952a5",
   "metadata": {},
   "outputs": [],
   "source": [
    "import pyddm\n",
    "\n",
    "def drift_function(avgWTP_left, avgWTP_right, fixation, d, theta, t):\n",
    "    fixation_index = min(int(t/0.001), len(fixation)-1)\n",
    "    current_fixation = fixation[fixation_index]\n",
    "    if current_fixation == 0: # saccade\n",
    "        return 0\n",
    "    elif current_fixation == 1: # left\n",
    "        return d * (avgWTP_left -  avgWTP_right * theta)\n",
    "    else: # right\n",
    "        return d * (avgWTP_left * theta -  avgWTP_right)\n",
    "\n",
    "model = pyddm.gddm(drift=drift_function, noise=0.57, bound=1, nondecision=0,\n",
    "               parameters={\"d\": (1, 3), \"theta\": (0, 1)},\n",
    "               conditions=[\"avgWTP_left\", \"avgWTP_right\", \"fixation\"],\n",
    "               choice_names=(\"left\", \"right\"),\n",
    "               T_dur = 5,\n",
    "               dx = 0.001,\n",
    "               dt = 0.001\n",
    ")"
   ]
  },
  {
   "cell_type": "markdown",
   "id": "23470958",
   "metadata": {},
   "source": [
    "Then define the sample."
   ]
  },
  {
   "cell_type": "code",
   "execution_count": 2,
   "id": "dae4ece6",
   "metadata": {},
   "outputs": [],
   "source": [
    "import pandas as pd\n",
    "import ast\n",
    "\n",
    "simulated_df = pd.read_csv('simulated_trials.csv')\n",
    "simulated_df['fixation'] = simulated_df['fixation'].apply(ast.literal_eval)\n",
    "\n",
    "sample = pyddm.Sample.from_pandas_dataframe(\n",
    "    simulated_df,\n",
    "    choice_column_name=\"choice\",\n",
    "    rt_column_name=\"RT\",\n",
    "    choice_names=(\"left\", \"right\")\n",
    ")"
   ]
  },
  {
   "cell_type": "markdown",
   "id": "5387f1aa",
   "metadata": {},
   "source": [
    "Then define the grid."
   ]
  },
  {
   "cell_type": "code",
   "execution_count": 3,
   "id": "d0556373",
   "metadata": {},
   "outputs": [
    {
     "data": {
      "text/plain": [
       "[(np.float64(1.0), np.float64(0.28)),\n",
       " (np.float64(1.0), np.float64(0.33)),\n",
       " (np.float64(1.0), np.float64(0.38)),\n",
       " (np.float64(1.0), np.float64(0.43)),\n",
       " (np.float64(1.0), np.float64(0.48)),\n",
       " (np.float64(1.5), np.float64(0.28)),\n",
       " (np.float64(1.5), np.float64(0.33)),\n",
       " (np.float64(1.5), np.float64(0.38)),\n",
       " (np.float64(1.5), np.float64(0.43)),\n",
       " (np.float64(1.5), np.float64(0.48)),\n",
       " (np.float64(2.0), np.float64(0.28)),\n",
       " (np.float64(2.0), np.float64(0.33)),\n",
       " (np.float64(2.0), np.float64(0.38)),\n",
       " (np.float64(2.0), np.float64(0.43)),\n",
       " (np.float64(2.0), np.float64(0.48)),\n",
       " (np.float64(2.5), np.float64(0.28)),\n",
       " (np.float64(2.5), np.float64(0.33)),\n",
       " (np.float64(2.5), np.float64(0.38)),\n",
       " (np.float64(2.5), np.float64(0.43)),\n",
       " (np.float64(2.5), np.float64(0.48)),\n",
       " (np.float64(3.0), np.float64(0.28)),\n",
       " (np.float64(3.0), np.float64(0.33)),\n",
       " (np.float64(3.0), np.float64(0.38)),\n",
       " (np.float64(3.0), np.float64(0.43)),\n",
       " (np.float64(3.0), np.float64(0.48))]"
      ]
     },
     "execution_count": 3,
     "metadata": {},
     "output_type": "execute_result"
    }
   ],
   "source": [
    "import itertools\n",
    "import numpy as np\n",
    "\n",
    "d_vals = np.linspace(1, 3, 5)\n",
    "theta_vals = np.linspace(0.28, 0.48, 5)\n",
    "\n",
    "grid = list(itertools.product(d_vals, theta_vals))\n",
    "grid"
   ]
  },
  {
   "cell_type": "markdown",
   "id": "ab4c65ab",
   "metadata": {},
   "source": [
    "Now run the grid search on a new model."
   ]
  },
  {
   "cell_type": "code",
   "execution_count": 4,
   "id": "97ae0d3f",
   "metadata": {},
   "outputs": [
    {
     "name": "stdout",
     "output_type": "stream",
     "text": [
      "Running params [1.0, 0.28] in loss().\n",
      "Ran params [1.0, 0.28] in loss() with a nll of 2665.703864938834.\n",
      "Running params [1.0, 0.33] in loss().\n",
      "Ran params [1.0, 0.33] in loss() with a nll of 2653.7539828869667.\n",
      "Running params [1.0, 0.38] in loss().\n",
      "Ran params [1.0, 0.38] in loss() with a nll of 2640.1437112734543.\n",
      "Running params [1.0, 0.43] in loss().\n",
      "Ran params [1.0, 0.43] in loss() with a nll of 2624.267556669372.\n",
      "Running params [1.0, 0.48] in loss().\n",
      "Ran params [1.0, 0.48] in loss() with a nll of 2605.1270649824028.\n",
      "Running params [1.5, 0.28] in loss().\n",
      "Ran params [1.5, 0.28] in loss() with a nll of 2824.5226116751573.\n",
      "Running params [1.5, 0.33] in loss().\n",
      "Ran params [1.5, 0.33] in loss() with a nll of 2827.2917975736423.\n",
      "Running params [1.5, 0.38] in loss().\n",
      "Ran params [1.5, 0.38] in loss() with a nll of 2828.4078906396758.\n",
      "Running params [1.5, 0.43] in loss().\n",
      "Ran params [1.5, 0.43] in loss() with a nll of 2825.497740740235.\n",
      "Running params [1.5, 0.48] in loss().\n",
      "Ran params [1.5, 0.48] in loss() with a nll of 2815.7560911957694.\n",
      "Running params [2.0, 0.28] in loss().\n",
      "Ran params [2.0, 0.28] in loss() with a nll of 2887.883231295245.\n",
      "Running params [2.0, 0.33] in loss().\n",
      "Ran params [2.0, 0.33] in loss() with a nll of 2901.088587506199.\n",
      "Running params [2.0, 0.38] in loss().\n",
      "Ran params [2.0, 0.38] in loss() with a nll of 2911.9500623732733.\n",
      "Running params [2.0, 0.43] in loss().\n",
      "Ran params [2.0, 0.43] in loss() with a nll of 2916.596654972602.\n",
      "Running params [2.0, 0.48] in loss().\n",
      "Ran params [2.0, 0.48] in loss() with a nll of 2911.087087456113.\n",
      "Running params [2.5, 0.28] in loss().\n",
      "Ran params [2.5, 0.28] in loss() with a nll of 2915.80555985521.\n",
      "Running params [2.5, 0.33] in loss().\n",
      "Ran params [2.5, 0.33] in loss() with a nll of 2937.41392870502.\n",
      "Running params [2.5, 0.38] in loss().\n",
      "Ran params [2.5, 0.38] in loss() with a nll of 2955.6258242646554.\n",
      "Running params [2.5, 0.43] in loss().\n",
      "Ran params [2.5, 0.43] in loss() with a nll of 2964.1231361257637.\n",
      "Running params [2.5, 0.48] in loss().\n",
      "Ran params [2.5, 0.48] in loss() with a nll of 2959.803141508775.\n",
      "Running params [3.0, 0.28] in loss().\n",
      "Ran params [3.0, 0.28] in loss() with a nll of 2929.5120321153786.\n",
      "Running params [3.0, 0.33] in loss().\n",
      "Ran params [3.0, 0.33] in loss() with a nll of 2956.9035938099405.\n",
      "Running params [3.0, 0.38] in loss().\n",
      "Ran params [3.0, 0.38] in loss() with a nll of 2979.8508441863614.\n",
      "Running params [3.0, 0.43] in loss().\n",
      "Ran params [3.0, 0.43] in loss() with a nll of 2990.5323749949985.\n",
      "Running params [3.0, 0.48] in loss().\n",
      "Ran params [3.0, 0.48] in loss() with a nll of 2987.37185716461.\n"
     ]
    }
   ],
   "source": [
    "from pyddm.models.loss import LossLikelihood\n",
    "\n",
    "results = []\n",
    "\n",
    "for d_vals, theta_vals in grid:\n",
    "    m = pyddm.gddm(drift=drift_function, noise=0.57, bound=1, nondecision=0,\n",
    "               parameters={\"d\": d_vals, \"theta\": theta_vals},\n",
    "               conditions=[\"avgWTP_left\", \"avgWTP_right\", \"fixation\"],\n",
    "               choice_names=(\"left\", \"right\"),\n",
    "               T_dur = 5,\n",
    "               dx = 0.001,\n",
    "               dt = 0.001\n",
    "        )\n",
    "\n",
    "    lossfunc = LossLikelihood(sample=sample, model=m, dt=m.dt, T_dur=m.T_dur)\n",
    "    print(f'Running params [{d_vals}, {theta_vals}] in loss().')\n",
    "    nll = lossfunc.loss(m)\n",
    "    print(f'Ran params [{d_vals}, {theta_vals}] in loss() with a nll of {nll}.')\n",
    "    results.append({\n",
    "        \"drift\": d_vals,\n",
    "        \"theta\": theta_vals,\n",
    "        \"nll\": nll\n",
    "    })"
   ]
  },
  {
   "cell_type": "markdown",
   "id": "f20e0e01",
   "metadata": {},
   "source": [
    "Finally, plot the results."
   ]
  },
  {
   "cell_type": "code",
   "execution_count": 5,
   "id": "76d23eff",
   "metadata": {},
   "outputs": [],
   "source": [
    "# Convert to pandas DataFrame for convenience\n",
    "results_df = pd.DataFrame(results)\n",
    "\n",
    "heatmap_data = results_df.pivot(\n",
    "    index=\"theta\",\n",
    "    columns=\"drift\",\n",
    "    values=\"nll\"\n",
    ")"
   ]
  },
  {
   "cell_type": "code",
   "execution_count": 6,
   "id": "eb8933cf",
   "metadata": {},
   "outputs": [
    {
     "data": {
      "image/png": "[encoded data removed]",
      "text/plain": [
       "<Figure size 800x600 with 2 Axes>"
      ]
     },
     "metadata": {},
     "output_type": "display_data"
    }
   ],
   "source": [
    "import matplotlib.pyplot as plt\n",
    "\n",
    "plt.figure(figsize=(8,6))\n",
    "im = plt.imshow(\n",
    "    heatmap_data.values,\n",
    "    origin=\"lower\",\n",
    "    aspect=\"auto\",\n",
    "    cmap=\"viridis\"\n",
    ")\n",
    "\n",
    "plt.colorbar(im, label=\"Negative Log Likelihood\")\n",
    "\n",
    "plt.xticks(\n",
    "    range(len(heatmap_data.columns)),\n",
    "    labels=np.round(heatmap_data.columns, 3)\n",
    ")\n",
    "plt.yticks(\n",
    "    range(len(heatmap_data.index)),\n",
    "    labels=np.round(heatmap_data.index, 3)\n",
    ")\n",
    "\n",
    "plt.xlabel(\"Drift rate\")\n",
    "plt.ylabel(\"Theta\")\n",
    "plt.title(\"Grid Search Negative Log Likelihood Heatmap\")\n",
    "plt.tight_layout()\n",
    "plt.show()\n"
   ]
  },
  {
   "cell_type": "code",
   "execution_count": null,
   "id": "9c46d486",
   "metadata": {},
   "outputs": [],
   "source": []
  }
 ],
 "metadata": {
  "kernelspec": {
   "display_name": "DDM",
   "language": "python",
   "name": "python3"
  },
  "language_info": {
   "codemirror_mode": {
    "name": "ipython",
    "version": 3
   },
   "file_extension": ".py",
   "mimetype": "text/x-python",
   "name": "python",
   "nbconvert_exporter": "python",
   "pygments_lexer": "ipython3",
   "version": "3.12.9"
  }
 },
 "nbformat": 4,
 "nbformat_minor": 5
}
