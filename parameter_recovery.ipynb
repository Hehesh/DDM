{
 "cells": [
  {
   "cell_type": "markdown",
   "id": "79876792",
   "metadata": {},
   "source": [
    "# Parameter Recovery"
   ]
  },
  {
   "cell_type": "markdown",
   "id": "21cccf3f",
   "metadata": {},
   "source": [
    "This notebook will cover a simulated parameter recovery of drift rate and discount factor according to avgWTP_left, avgWTP_right, and fixation, as known, trial level data. Generated data are based on:\n",
    "\n",
    "- d = 0.002\n",
    "- theta = 0.38\n",
    "- noise = 0.018\n",
    "\n",
    "However, all parameters are scaled to PyDDM's second basis instead of aDDM_toolbox's millisecond basis. The result is d increased by a factor of 1000, theta remaining the same, and noise being increased by a factor of sqrt 1000, yielding:\n",
    "\n",
    "- d = 2\n",
    "- theta = 0.38\n",
    "- noise = 0.57\n",
    "\n",
    "Using real data, we first generate \"boxes\" of data relating relative value and fixations. This will be used to randomly sample fixations for later."
   ]
  },
  {
   "cell_type": "code",
   "execution_count": 1,
   "id": "29198399",
   "metadata": {},
   "outputs": [],
   "source": [
    "import get_empirical_distributions\n",
    "\n",
    "path = '/Users/braydenchien/Desktop/Enkavilab/DDM/1ms_trial_data.csv'\n",
    "bin_size = 0.001\n",
    "seed = 42\n",
    "\n",
    "empirical_distributions = get_empirical_distributions.get_empirical_distributions(path, bin_size)"
   ]
  },
  {
   "cell_type": "code",
   "execution_count": 2,
   "id": "5ce27937",
   "metadata": {},
   "outputs": [],
   "source": [
    "import numpy as np\n",
    "\n",
    "def generate_fixations(bin_size, relative_value_difference):\n",
    "    \"\"\"\n",
    "    Generates a fixation sequence binned in time using empirical distributions.\n",
    "    For subsequent fixations (after the first), pools from both signs of \n",
    "    relative value difference. The first fixation remains sign-dependent.\n",
    "    \"\"\"\n",
    "    probLeftFirst = empirical_distributions['probFixLeftFirst']\n",
    "    left_first = np.random.rand() < probLeftFirst\n",
    "\n",
    "    # Flip sign for matching fixation distribution to fixated side\n",
    "    rel_val_for_first = relative_value_difference if left_first else -relative_value_difference\n",
    "\n",
    "    events = []\n",
    "    global_time = 0.0\n",
    "\n",
    "    # Initial latency\n",
    "    latency = np.random.choice(empirical_distributions['latencies'])\n",
    "    events.append((global_time, global_time + latency, 0))\n",
    "    global_time += latency\n",
    "\n",
    "    # First fixation — sign-dependent\n",
    "    first_fixation_duration = np.random.choice(\n",
    "        empirical_distributions['fixations'][1][rel_val_for_first]\n",
    "    )\n",
    "    code = 1 if left_first else 2\n",
    "    events.append((global_time, global_time + first_fixation_duration, code))\n",
    "    global_time += first_fixation_duration\n",
    "\n",
    "    # Prepare for alternation\n",
    "    current_side_code = 2 if code == 1 else 1\n",
    "    abs_val = abs(relative_value_difference)\n",
    "\n",
    "    def pooled_fixation_durations(fixation_dict, abs_val):\n",
    "        durations = []\n",
    "        if abs_val in fixation_dict:\n",
    "            durations.extend(fixation_dict[abs_val])\n",
    "        if -abs_val in fixation_dict:\n",
    "            durations.extend(fixation_dict[-abs_val])\n",
    "        return durations\n",
    "\n",
    "    # Subsequent fixations — pooled\n",
    "    while global_time < 30.0:\n",
    "        # Transition\n",
    "        transition_duration = np.random.choice(empirical_distributions['transitions'])\n",
    "        events.append((global_time, global_time + transition_duration, 0))\n",
    "        global_time += transition_duration\n",
    "\n",
    "        # Fixation from pooled durations\n",
    "        next_durations = pooled_fixation_durations(empirical_distributions['fixations'][2], abs_val)\n",
    "        next_fixation_duration = np.random.choice(next_durations)\n",
    "        events.append((global_time, global_time + next_fixation_duration, current_side_code))\n",
    "        global_time += next_fixation_duration\n",
    "\n",
    "        # Alternate side\n",
    "        current_side_code = 2 if current_side_code == 1 else 1\n",
    "\n",
    "    # Bin into time steps\n",
    "    num_bins = int(30 / bin_size)\n",
    "    fixation_sequence = []\n",
    "\n",
    "    for i in range(num_bins):\n",
    "        bin_start_time = i * bin_size\n",
    "        for start, end, event_code in events:\n",
    "            if start <= bin_start_time < end:\n",
    "                fixation_sequence.append(event_code)\n",
    "                break\n",
    "        else:\n",
    "            fixation_sequence.append(0)\n",
    "\n",
    "    return tuple(fixation_sequence)\n"
   ]
  },
  {
   "cell_type": "markdown",
   "id": "0150abf3",
   "metadata": {},
   "source": [
    "We implemented a weighted sampling approach based on empirical distributions. This way, our simulated trials do not over-represent extreme relative value differences. There still is the issue of not being able to differentiate relative value differences of same magnitudes over different nominal values (eg. 1 and 3 and 2.4 and 4.5).6"
   ]
  },
  {
   "cell_type": "markdown",
   "id": "c4e866ba",
   "metadata": {},
   "source": [
    "Now we can generate data. Let's create a function to help with that. To randomly sample fixation data, it will randomly generate a pair of two numbers from 1 to 5 with 0.25 ticks from within fixation_dict's keys. Finally, it will randomly choose one of the fixation tuples associated with the inital randomly generated tuple."
   ]
  },
  {
   "cell_type": "code",
   "execution_count": 3,
   "id": "aef65285",
   "metadata": {},
   "outputs": [],
   "source": [
    "import random\n",
    "\n",
    "def create_trials(num_trials, seed=42):\n",
    "    random.seed(seed)\n",
    "\n",
    "    trials = list()\n",
    "    for _ in range(num_trials):\n",
    "        # Sample weights according to empirical weighted average of frequencies of that relative value difference\n",
    "        # keys = [k for k in empirical_distributions['fixations'][1].keys()]\n",
    "        # weights = [len(empirical_distributions['fixations'][1][k]) for k in keys]\n",
    "        # sampled_key = float(random.choices(keys, weights=weights, k=1)[0])\n",
    "        sampled_key = random.choice(np.linspace(-4, 4, 33))\n",
    "\n",
    "        # Randomly generate a viable left value\n",
    "        raw_max_left_value = ((5.0 - sampled_key) // 0.25) * 0.25\n",
    "        max_left_value = min(5.0, raw_max_left_value)\n",
    "        min_left_value = max(1.0, 1.0 - sampled_key)\n",
    "\n",
    "        num_steps = int((max_left_value - min_left_value) / 0.25) + 1\n",
    "        left_values = [round(min_left_value + i*0.25,2) for i in range(num_steps)]\n",
    "\n",
    "        # Pick the left value\n",
    "        left_value = random.choice(left_values)\n",
    "        trials.append({'avgWTP_left': left_value, 'avgWTP_right': left_value + sampled_key, 'fixation': generate_fixations(0.001, sampled_key)})\n",
    "\n",
    "    return trials"
   ]
  },
  {
   "cell_type": "markdown",
   "id": "74467fc6",
   "metadata": {},
   "source": [
    "Now we can generate sample choices and RT's from trials we generated."
   ]
  },
  {
   "cell_type": "code",
   "execution_count": 4,
   "id": "97ffab39",
   "metadata": {},
   "outputs": [],
   "source": [
    "num_trials = 500\n",
    "trials = create_trials(num_trials)"
   ]
  },
  {
   "cell_type": "code",
   "execution_count": 5,
   "id": "59454426",
   "metadata": {},
   "outputs": [],
   "source": [
    "import pyddm\n",
    "from pyddm.models import OverlayChain\n",
    "\n",
    "def create_model(drift_rate, theta, noise):\n",
    "    # Wrapper function to hyperparameterize drift_rate\n",
    "    def make_drift_function(drift_rate):\n",
    "        def drift_function(avgWTP_left, avgWTP_right, fixation, t):\n",
    "            fixation_index = min(int(t/0.001), len(fixation)-1)\n",
    "            current_fixation = fixation[fixation_index]\n",
    "            if current_fixation == 0: # saccade\n",
    "                return 0\n",
    "            elif current_fixation == 1: # left\n",
    "                return drift_rate * (avgWTP_left -  avgWTP_right * theta)\n",
    "            else: # right\n",
    "                return drift_rate * (avgWTP_left * theta -  avgWTP_right)\n",
    "        \n",
    "        return drift_function\n",
    "    \n",
    "    # Define the drift function\n",
    "    my_drift_function = make_drift_function(drift_rate)\n",
    "\n",
    "    # Define the model\n",
    "    model = pyddm.gddm(\n",
    "        drift=my_drift_function,\n",
    "        noise=noise,\n",
    "        bound=1,\n",
    "        nondecision=0,\n",
    "        conditions=[\"avgWTP_left\", \"avgWTP_right\", \"fixation\"],\n",
    "        choice_names=(\"left\", \"right\"),\n",
    "        T_dur=10,\n",
    "        dx=0.001,\n",
    "        dt=0.001\n",
    "    )\n",
    "\n",
    "    model._overlay = OverlayChain(overlays=[])\n",
    "    return model"
   ]
  },
  {
   "cell_type": "code",
   "execution_count": 6,
   "id": "a536b0e3",
   "metadata": {},
   "outputs": [],
   "source": [
    "_drift_rate = 1.2\n",
    "_theta = 0.38\n",
    "_noise = 0.45\n",
    "model = create_model(_drift_rate, _theta, _noise)"
   ]
  },
  {
   "cell_type": "code",
   "execution_count": 7,
   "id": "cbd9c310",
   "metadata": {},
   "outputs": [],
   "source": [
    "import pandas as pd\n",
    "import os\n",
    "\n",
    "def simulate(bin_size, model, trials, seed=42, save_results=True):\n",
    "    results_df = list()\n",
    "\n",
    "    random.seed(seed)\n",
    "\n",
    "    for trial in trials:\n",
    "        res = model.simulate_trial(trial)\n",
    "        trial_fixation_tuple = trial['fixation'][:int(len(res)/(bin_size/model.dt))]\n",
    "        trial_RT = round(len(trial_fixation_tuple)*bin_size, 3)\n",
    "        if res[-1] >= 1:\n",
    "            choice = 0\n",
    "        elif res[-1] <= -1:\n",
    "            choice = 1\n",
    "        else:\n",
    "            raise ValueError(f'Simulation ended before a decision was reached with last relative decision value of {res[-1]} but boundaries {model._bounddep.B} and {-1 * model._bounddep.B}. Please extend T_dur or modify parameters.')\n",
    "\n",
    "        results_df.append({'trajectory': res, 'avgWTP_left': trial['avgWTP_left'], 'avgWTP_right': trial['avgWTP_right'], 'fixation': trial_fixation_tuple, 'RT': trial_RT, 'choice': choice})\n",
    "\n",
    "    results_df = pd.DataFrame(results_df)\n",
    "    if save_results:\n",
    "        simulated_df = results_df[['choice', 'RT', 'avgWTP_left', 'avgWTP_right', 'fixation']]\n",
    "        simulated_df.to_csv(os.path.join('simulated_data', f'sim_trials_{seed}_{_drift_rate}_{_theta}_{_noise}.csv'), index=False)\n",
    "    return results_df"
   ]
  },
  {
   "cell_type": "code",
   "execution_count": 8,
   "id": "5500f56f",
   "metadata": {},
   "outputs": [],
   "source": [
    "results_df = simulate(bin_size, model, trials)"
   ]
  },
  {
   "cell_type": "code",
   "execution_count": 9,
   "id": "10430e51",
   "metadata": {},
   "outputs": [],
   "source": [
    "def valid_simulation(results_df):\n",
    "    good_trials = 0\n",
    "    # Single-pass loop to count fixations\n",
    "    def count_segments(data):\n",
    "        count = 0\n",
    "        in_segment = False\n",
    "\n",
    "        for val in data:\n",
    "            if val in (1, 2):\n",
    "                if not in_segment:\n",
    "                    count += 1\n",
    "                    in_segment = True\n",
    "            else:\n",
    "                in_segment = False  # end the current segment\n",
    "\n",
    "        return count\n",
    "\n",
    "    for trial in results_df.itertuples():\n",
    "        num_fixations = count_segments(trial.fixation)\n",
    "        if num_fixations >= 2:\n",
    "            good_trials += 1\n",
    "    print(f'Number of trials with two or more fixations: {good_trials}')\n",
    "    if good_trials >= 0.95 * len(results_df):\n",
    "        return True\n",
    "    else:\n",
    "        return False"
   ]
  },
  {
   "cell_type": "code",
   "execution_count": 10,
   "id": "341a8225",
   "metadata": {},
   "outputs": [
    {
     "name": "stdout",
     "output_type": "stream",
     "text": [
      "Number of trials with two or more fixations: 338\n"
     ]
    },
    {
     "data": {
      "text/plain": [
       "False"
      ]
     },
     "execution_count": 10,
     "metadata": {},
     "output_type": "execute_result"
    }
   ],
   "source": [
    "valid_simulation(results_df)"
   ]
  },
  {
   "cell_type": "code",
   "execution_count": null,
   "id": "c4c8aad0",
   "metadata": {},
   "outputs": [],
   "source": [
    "import itertools\n",
    "\n",
    "def grid_simulation():\n",
    "    drift_rates = np.linspace(0.9, 1.3, 3)\n",
    "    noise_levels = np.linspace(0.2, 0.6, 3)\n",
    "    theta = 0.38\n",
    "\n",
    "    for drift, noise in itertools.product(drift_rates, noise_levels):\n",
    "        model = create_model(drift, theta, noise)\n",
    "        try:\n",
    "            results = simulate(bin_size, model, trials)\n",
    "        except ValueError:\n",
    "            print(f'Parameter combination drift rate: {drift}, noise: {noise} results in timeout')\n",
    "            continue\n",
    "\n",
    "        if valid_simulation(results):\n",
    "            return results\n",
    "        \n",
    "good_result_df = grid_simulation()"
   ]
  },
  {
   "cell_type": "code",
   "execution_count": 29,
   "id": "022f3952",
   "metadata": {},
   "outputs": [
    {
     "name": "stdout",
     "output_type": "stream",
     "text": [
      "Number of trials with two or more fixations: 442\n"
     ]
    },
    {
     "data": {
      "text/plain": [
       "False"
      ]
     },
     "execution_count": 29,
     "metadata": {},
     "output_type": "execute_result"
    }
   ],
   "source": [
    "_drift_rate = 0.75\n",
    "_theta = 0.38\n",
    "_noise = 0.35\n",
    "model = create_model(_drift_rate, _theta, _noise)\n",
    "results = simulate(bin_size, model, trials)\n",
    "valid_simulation(results)"
   ]
  },
  {
   "cell_type": "code",
   "execution_count": 30,
   "id": "491bb59d",
   "metadata": {},
   "outputs": [],
   "source": [
    "import matplotlib.pyplot as plt\n",
    "import numpy as np\n",
    "\n",
    "def plot_trajectory(trial):\n",
    "    \"\"\"\n",
    "    Plots the trajectory of the decision variable over time,\n",
    "    shading periods of fixation left/right.\n",
    "\n",
    "    Parameters:\n",
    "    - trial: dict with keys:\n",
    "        - 'trajectory': list or np.array of decision variable\n",
    "        - 'fixation': list or np.array of fixation states (1=left, 2=right)\n",
    "        - etc.\n",
    "    \"\"\"\n",
    "    trajectory = np.array(trial['trajectory'])\n",
    "    fixation = np.array(trial['fixation'])\n",
    "    timesteps = np.arange(len(trajectory)) * model.dt\n",
    "\n",
    "    fig, ax = plt.subplots(figsize=(10, 4))\n",
    "\n",
    "    # Plot trajectory line\n",
    "    ax.plot(timesteps, trajectory, color=\"black\", label=\"Trajectory\")\n",
    "\n",
    "    # Identify contiguous fixation segments\n",
    "    current_state = fixation[0]\n",
    "    start_idx = 0\n",
    "    for i in range(1, len(fixation)):\n",
    "        if fixation[i] != current_state or i == len(fixation) - 1:\n",
    "            end_idx = i if fixation[i] != current_state else i + 1\n",
    "            if current_state == 1:\n",
    "                ax.axvspan(timesteps[start_idx], timesteps[end_idx - 1], color=\"blue\", alpha=0.2, label=\"Fixation Left\" if start_idx == 0 else \"\")\n",
    "            elif current_state == 2:\n",
    "                ax.axvspan(timesteps[start_idx], timesteps[end_idx - 1], color=\"red\", alpha=0.2, label=\"Fixation Right\" if start_idx == 0 else \"\")\n",
    "            start_idx = i\n",
    "            current_state = fixation[i]\n",
    "\n",
    "    ax.set_xlabel(\"Time (s)\")\n",
    "    ax.set_ylabel(\"Decision Variable\")\n",
    "    ax.set_title(\"aDDM Accumulation Trajectory with Fixation Shading\")\n",
    "    ax.grid(True)\n",
    "\n",
    "    # Avoid duplicate legend entries\n",
    "    handles, labels = ax.get_legend_handles_labels()\n",
    "    by_label = dict(zip(labels, handles))\n",
    "    ax.legend(by_label.values(), by_label.keys())\n",
    "\n",
    "    plt.tight_layout()\n",
    "    plt.show()"
   ]
  },
  {
   "cell_type": "code",
   "execution_count": 36,
   "id": "f50a9f15",
   "metadata": {},
   "outputs": [
    {
     "data": {
      "image/png": "[encoded data removed]",
      "text/plain": [
       "<Figure size 1000x400 with 1 Axes>"
      ]
     },
     "metadata": {},
     "output_type": "display_data"
    }
   ],
   "source": [
    "plot_trajectory(results.loc[5])"
   ]
  }
 ],
 "metadata": {
  "kernelspec": {
   "display_name": "DDM",
   "language": "python",
   "name": "python3"
  },
  "language_info": {
   "codemirror_mode": {
    "name": "ipython",
    "version": 3
   },
   "file_extension": ".py",
   "mimetype": "text/x-python",
   "name": "python",
   "nbconvert_exporter": "python",
   "pygments_lexer": "ipython3",
   "version": "3.12.9"
  }
 },
 "nbformat": 4,
 "nbformat_minor": 5
}
