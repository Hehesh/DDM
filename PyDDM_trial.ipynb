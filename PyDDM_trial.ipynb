{
 "cells": [
  {
   "cell_type": "markdown",
   "id": "b75c0b0c",
   "metadata": {},
   "source": [
    "## PyDDM Experimentation"
   ]
  },
  {
   "cell_type": "markdown",
   "id": "f57834d2",
   "metadata": {},
   "source": [
    "This notebook will highlight some of PyDDM's capabilities then compare it to aDDM's results."
   ]
  },
  {
   "cell_type": "markdown",
   "id": "4b2596d5",
   "metadata": {},
   "source": [
    "First, some basic imports:"
   ]
  },
  {
   "cell_type": "code",
   "execution_count": 7,
   "id": "1c5f8847",
   "metadata": {},
   "outputs": [],
   "source": [
    "import matplotlib.pyplot as plt\n",
    "import numpy as np\n",
    "import pandas as pd\n",
    "import pyddm"
   ]
  },
  {
   "cell_type": "markdown",
   "id": "7ec74c13",
   "metadata": {},
   "source": [
    "To show a fixed-parameter model's probability distribution function (pdf) solution, define the model, then solve it using `.solve()`."
   ]
  },
  {
   "cell_type": "code",
   "execution_count": null,
   "id": "34fd128f",
   "metadata": {},
   "outputs": [
    {
     "data": {
      "image/png": "[encoded data removed]",
      "text/plain": [
       "<Figure size 640x480 with 1 Axes>"
      ]
     },
     "metadata": {},
     "output_type": "display_data"
    }
   ],
   "source": [
    "m = pyddm.gddm() # model\n",
    "s = m.solve() # solution\n",
    "plt.plot(s.t_domain, s.pdf(\"correct\"))\n",
    "plt.show()"
   ]
  },
  {
   "cell_type": "markdown",
   "id": "d557e257",
   "metadata": {},
   "source": [
    "Note that two distributions are generated: a correct solution and an incorrect solution. By default, the two distributions are named `\"correct\"` and `\"error\"`, but they can and should be renamed according to collected data.\n",
    "\n",
    "We can investigate the parameters of a model by doing `.show()`."
   ]
  },
  {
   "cell_type": "code",
   "execution_count": null,
   "id": "caa1415e",
   "metadata": {},
   "outputs": [
    {
     "name": "stdout",
     "output_type": "stream",
     "text": [
      "Model information:\n",
      "Choices: 'correct' (upper boundary), 'error' (lower boundary)\n",
      "Drift component DriftConstant:\n",
      "    constant\n",
      "    Fixed parameters:\n",
      "    - drift: 0.000000\n",
      "Noise component NoiseConstant:\n",
      "    constant\n",
      "    Fixed parameters:\n",
      "    - noise: 1.000000\n",
      "Bound component BoundConstant:\n",
      "    constant\n",
      "    Fixed parameters:\n",
      "    - B: 1.000000\n",
      "IC component ICPointRatio:\n",
      "    An arbitrary starting point expressed as a proportion of the distance between the bounds.\n",
      "    Fixed parameters:\n",
      "    - x0: 0.000000\n",
      "Overlay component OverlayChain:\n",
      "    Overlay component OverlayNonDecision:\n",
      "        Add a non-decision by shifting the histogram\n",
      "        Fixed parameters:\n",
      "        - nondectime: 0.000000\n",
      "    Overlay component OverlayUniformMixture:\n",
      "        Uniform distribution mixture model\n",
      "        Fixed parameters:\n",
      "        - umixturecoef: 0.020000\n",
      "\n"
     ]
    }
   ],
   "source": [
    "m.show()"
   ]
  },
  {
   "cell_type": "markdown",
   "id": "7de34cae",
   "metadata": {},
   "source": [
    "Now, what if we wanted to fit parameters to a model? Here, we use the original model but make drift rate variable. We then pass a dictionary in using the variable kwarg as a key and a tuple range as the value."
   ]
  },
  {
   "cell_type": "code",
   "execution_count": null,
   "id": "a4d55a3e",
   "metadata": {},
   "outputs": [
    {
     "name": "stdout",
     "output_type": "stream",
     "text": [
      "Model information:\n",
      "Choices: 'correct' (upper boundary), 'error' (lower boundary)\n",
      "Drift component DriftConstant:\n",
      "    constant\n",
      "    Fittable parameters:\n",
      "    - drift: Fittable (default 1.014791)\n",
      "Noise component NoiseConstant:\n",
      "    constant\n",
      "    Fixed parameters:\n",
      "    - noise: 1.000000\n",
      "Bound component BoundConstant:\n",
      "    constant\n",
      "    Fixed parameters:\n",
      "    - B: 1.000000\n",
      "IC component ICPointRatio:\n",
      "    An arbitrary starting point expressed as a proportion of the distance between the bounds.\n",
      "    Fixed parameters:\n",
      "    - x0: 0.000000\n",
      "Overlay component OverlayChain:\n",
      "    Overlay component OverlayNonDecision:\n",
      "        Add a non-decision by shifting the histogram\n",
      "        Fixed parameters:\n",
      "        - nondectime: 0.200000\n",
      "    Overlay component OverlayUniformMixture:\n",
      "        Uniform distribution mixture model\n",
      "        Fixed parameters:\n",
      "        - umixturecoef: 0.020000\n",
      "\n"
     ]
    }
   ],
   "source": [
    "model_to_fit = pyddm.gddm(drift=\"d\", noise=1.0, bound=1, nondecision=0.2, starting_position=0,\n",
    "                          parameters={\"d\": (-3,3)})\n",
    "model_to_fit.show()"
   ]
  },
  {
   "cell_type": "markdown",
   "id": "a0c0c632",
   "metadata": {},
   "source": [
    "For now, we can use simulated data from the solution to the prior model."
   ]
  },
  {
   "cell_type": "code",
   "execution_count": null,
   "id": "ff3920be",
   "metadata": {},
   "outputs": [],
   "source": [
    "samp_simulated = s.sample(10000, seed=123098)"
   ]
  },
  {
   "cell_type": "markdown",
   "id": "94b5b4a4",
   "metadata": {},
   "source": [
    "Then, we fit."
   ]
  },
  {
   "cell_type": "code",
   "execution_count": null,
   "id": "2ee7289c",
   "metadata": {},
   "outputs": [
    {
     "name": "stderr",
     "output_type": "stream",
     "text": [
      "Info: Model(name='', drift=DriftConstant(drift=Fitted(1.3120257072615602, minval=-3, maxval=3)), noise=NoiseConstant(noise=1.0), bound=BoundConstant(B=1), IC=ICPointRatio(x0=0), overlay=OverlayChain(overlays=[OverlayNonDecision(nondectime=0.2), OverlayUniformMixture(umixturecoef=0.02)]), dx=0.005, dt=0.005, T_dur=2.0) loss=39581.15456424863\n",
      "Info: Model(name='', drift=DriftConstant(drift=Fitted(2.30674440965321, minval=-3, maxval=3)), noise=NoiseConstant(noise=1.0), bound=BoundConstant(B=1), IC=ICPointRatio(x0=0), overlay=OverlayChain(overlays=[OverlayNonDecision(nondectime=0.2), OverlayUniformMixture(umixturecoef=0.02)]), dx=0.005, dt=0.005, T_dur=2.0) loss=51483.28774327074\n",
      "Info: Model(name='', drift=DriftConstant(drift=Fitted(-0.10525236683602857, minval=-3, maxval=3)), noise=NoiseConstant(noise=1.0), bound=BoundConstant(B=1), IC=ICPointRatio(x0=0), overlay=OverlayChain(overlays=[OverlayNonDecision(nondectime=0.2), OverlayUniformMixture(umixturecoef=0.02)]), dx=0.005, dt=0.005, T_dur=2.0) loss=32034.01870900473\n",
      "Info: Model(name='', drift=DriftConstant(drift=Fitted(-2.8927284130470126, minval=-3, maxval=3)), noise=NoiseConstant(noise=1.0), bound=BoundConstant(B=1), IC=ICPointRatio(x0=0), overlay=OverlayChain(overlays=[OverlayNonDecision(nondectime=0.2), OverlayUniformMixture(umixturecoef=0.02)]), dx=0.005, dt=0.005, T_dur=2.0) loss=58000.87991126143\n",
      "Info: Model(name='', drift=DriftConstant(drift=Fitted(-0.5604497839997066, minval=-3, maxval=3)), noise=NoiseConstant(noise=1.0), bound=BoundConstant(B=1), IC=ICPointRatio(x0=0), overlay=OverlayChain(overlays=[OverlayNonDecision(nondectime=0.2), OverlayUniformMixture(umixturecoef=0.02)]), dx=0.005, dt=0.005, T_dur=2.0) loss=33518.23540564576\n",
      "Info: Model(name='', drift=DriftConstant(drift=Fitted(-0.6305534470087443, minval=-3, maxval=3)), noise=NoiseConstant(noise=1.0), bound=BoundConstant(B=1), IC=ICPointRatio(x0=0), overlay=OverlayChain(overlays=[OverlayNonDecision(nondectime=0.2), OverlayUniformMixture(umixturecoef=0.02)]), dx=0.005, dt=0.005, T_dur=2.0) loss=33917.684594370134\n",
      "Info: Model(name='', drift=DriftConstant(drift=Fitted(0.2085845717934287, minval=-3, maxval=3)), noise=NoiseConstant(noise=1.0), bound=BoundConstant(B=1), IC=ICPointRatio(x0=0), overlay=OverlayChain(overlays=[OverlayNonDecision(nondectime=0.2), OverlayUniformMixture(umixturecoef=0.02)]), dx=0.005, dt=0.005, T_dur=2.0) loss=32140.669879263573\n",
      "Info: Model(name='', drift=DriftConstant(drift=Fitted(-1.349549984735967, minval=-3, maxval=3)), noise=NoiseConstant(noise=1.0), bound=BoundConstant(B=1), IC=ICPointRatio(x0=0), overlay=OverlayChain(overlays=[OverlayNonDecision(nondectime=0.2), OverlayUniformMixture(umixturecoef=0.02)]), dx=0.005, dt=0.005, T_dur=2.0) loss=40360.60205034478\n",
      "Info: Model(name='', drift=DriftConstant(drift=Fitted(-2.551024597969037, minval=-3, maxval=3)), noise=NoiseConstant(noise=1.0), bound=BoundConstant(B=1), IC=ICPointRatio(x0=0), overlay=OverlayChain(overlays=[OverlayNonDecision(nondectime=0.2), OverlayUniformMixture(umixturecoef=0.02)]), dx=0.005, dt=0.005, T_dur=2.0) loss=54584.690640757886\n",
      "Info: Model(name='', drift=DriftConstant(drift=Fitted(2.739345940745669, minval=-3, maxval=3)), noise=NoiseConstant(noise=1.0), bound=BoundConstant(B=1), IC=ICPointRatio(x0=0), overlay=OverlayChain(overlays=[OverlayNonDecision(nondectime=0.2), OverlayUniformMixture(umixturecoef=0.02)]), dx=0.005, dt=0.005, T_dur=2.0) loss=56225.62104233913\n",
      "Info: Model(name='', drift=DriftConstant(drift=Fitted(-1.5678558352794303, minval=-3, maxval=3)), noise=NoiseConstant(noise=1.0), bound=BoundConstant(B=1), IC=ICPointRatio(x0=0), overlay=OverlayChain(overlays=[OverlayNonDecision(nondectime=0.2), OverlayUniformMixture(umixturecoef=0.02)]), dx=0.005, dt=0.005, T_dur=2.0) loss=42934.50214268262\n",
      "Info: Model(name='', drift=DriftConstant(drift=Fitted(-2.1609916984197577, minval=-3, maxval=3)), noise=NoiseConstant(noise=1.0), bound=BoundConstant(B=1), IC=ICPointRatio(x0=0), overlay=OverlayChain(overlays=[OverlayNonDecision(nondectime=0.2), OverlayUniformMixture(umixturecoef=0.02)]), dx=0.005, dt=0.005, T_dur=2.0) loss=50173.99445475682\n",
      "Info: Model(name='', drift=DriftConstant(drift=Fitted(0.6821656143412045, minval=-3, maxval=3)), noise=NoiseConstant(noise=1.0), bound=BoundConstant(B=1), IC=ICPointRatio(x0=0), overlay=OverlayChain(overlays=[OverlayNonDecision(nondectime=0.2), OverlayUniformMixture(umixturecoef=0.02)]), dx=0.005, dt=0.005, T_dur=2.0) loss=34044.97483442261\n",
      "Info: Model(name='', drift=DriftConstant(drift=Fitted(1.897301545250188, minval=-3, maxval=3)), noise=NoiseConstant(noise=1.0), bound=BoundConstant(B=1), IC=ICPointRatio(x0=0), overlay=OverlayChain(overlays=[OverlayNonDecision(nondectime=0.2), OverlayUniformMixture(umixturecoef=0.02)]), dx=0.005, dt=0.005, T_dur=2.0) loss=46555.25643168648\n",
      "Info: Model(name='', drift=DriftConstant(drift=Fitted(1.495610116692311, minval=-3, maxval=3)), noise=NoiseConstant(noise=1.0), bound=BoundConstant(B=1), IC=ICPointRatio(x0=0), overlay=OverlayChain(overlays=[OverlayNonDecision(nondectime=0.2), OverlayUniformMixture(umixturecoef=0.02)]), dx=0.005, dt=0.005, T_dur=2.0) loss=41674.58421005423\n",
      "Info: Model(name='', drift=DriftConstant(drift=Fitted(-1.2024266230805543, minval=-3, maxval=3)), noise=NoiseConstant(noise=1.0), bound=BoundConstant(B=1), IC=ICPointRatio(x0=0), overlay=OverlayChain(overlays=[OverlayNonDecision(nondectime=0.2), OverlayUniformMixture(umixturecoef=0.02)]), dx=0.005, dt=0.005, T_dur=2.0) loss=38742.79084485804\n",
      "Info: Model(name='', drift=DriftConstant(drift=Fitted(0.8690371910861536, minval=-3, maxval=3)), noise=NoiseConstant(noise=1.0), bound=BoundConstant(B=1), IC=ICPointRatio(x0=0), overlay=OverlayChain(overlays=[OverlayNonDecision(nondectime=0.2), OverlayUniformMixture(umixturecoef=0.02)]), dx=0.005, dt=0.005, T_dur=2.0) loss=35359.18490314178\n",
      "Info: Model(name='', drift=DriftConstant(drift=Fitted(2.355965288992434, minval=-3, maxval=3)), noise=NoiseConstant(noise=1.0), bound=BoundConstant(B=1), IC=ICPointRatio(x0=0), overlay=OverlayChain(overlays=[OverlayNonDecision(nondectime=0.2), OverlayUniformMixture(umixturecoef=0.02)]), dx=0.005, dt=0.005, T_dur=2.0) loss=52052.982593092354\n",
      "Info: Model(name='', drift=DriftConstant(drift=Fitted(2.7615734565887253, minval=-3, maxval=3)), noise=NoiseConstant(noise=1.0), bound=BoundConstant(B=1), IC=ICPointRatio(x0=0), overlay=OverlayChain(overlays=[OverlayNonDecision(nondectime=0.2), OverlayUniformMixture(umixturecoef=0.02)]), dx=0.005, dt=0.005, T_dur=2.0) loss=56450.85774043558\n",
      "Info: Model(name='', drift=DriftConstant(drift=Fitted(-0.9733467566263577, minval=-3, maxval=3)), noise=NoiseConstant(noise=1.0), bound=BoundConstant(B=1), IC=ICPointRatio(x0=0), overlay=OverlayChain(overlays=[OverlayNonDecision(nondectime=0.2), OverlayUniformMixture(umixturecoef=0.02)]), dx=0.005, dt=0.005, T_dur=2.0) loss=36496.855940358604\n",
      "Info: Model(name='', drift=DriftConstant(drift=Fitted(-0.33912349644515016, minval=-3, maxval=3)), noise=NoiseConstant(noise=1.0), bound=BoundConstant(B=1), IC=ICPointRatio(x0=0), overlay=OverlayChain(overlays=[OverlayNonDecision(nondectime=0.2), OverlayUniformMixture(umixturecoef=0.02)]), dx=0.005, dt=0.005, T_dur=2.0) loss=32554.92826484534\n",
      "Info: Model(name='', drift=DriftConstant(drift=Fitted(-0.8217193926635528, minval=-3, maxval=3)), noise=NoiseConstant(noise=1.0), bound=BoundConstant(B=1), IC=ICPointRatio(x0=0), overlay=OverlayChain(overlays=[OverlayNonDecision(nondectime=0.2), OverlayUniformMixture(umixturecoef=0.02)]), dx=0.005, dt=0.005, T_dur=2.0) loss=35231.46919745087\n",
      "Info: Model(name='', drift=DriftConstant(drift=Fitted(0.8690371910861536, minval=-3, maxval=3)), noise=NoiseConstant(noise=1.0), bound=BoundConstant(B=1), IC=ICPointRatio(x0=0), overlay=OverlayChain(overlays=[OverlayNonDecision(nondectime=0.2), OverlayUniformMixture(umixturecoef=0.02)]), dx=0.005, dt=0.005, T_dur=2.0) loss=35359.18490314178\n",
      "Info: Model(name='', drift=DriftConstant(drift=Fitted(1.1861615934389071, minval=-3, maxval=3)), noise=NoiseConstant(noise=1.0), bound=BoundConstant(B=1), IC=ICPointRatio(x0=0), overlay=OverlayChain(overlays=[OverlayNonDecision(nondectime=0.2), OverlayUniformMixture(umixturecoef=0.02)]), dx=0.005, dt=0.005, T_dur=2.0) loss=38243.89361836435\n",
      "Info: Model(name='', drift=DriftConstant(drift=Fitted(-0.507865189810671, minval=-3, maxval=3)), noise=NoiseConstant(noise=1.0), bound=BoundConstant(B=1), IC=ICPointRatio(x0=0), overlay=OverlayChain(overlays=[OverlayNonDecision(nondectime=0.2), OverlayUniformMixture(umixturecoef=0.02)]), dx=0.005, dt=0.005, T_dur=2.0) loss=33248.21673156094\n",
      "Info: Model(name='', drift=DriftConstant(drift=Fitted(-1.3787754059855304, minval=-3, maxval=3)), noise=NoiseConstant(noise=1.0), bound=BoundConstant(B=1), IC=ICPointRatio(x0=0), overlay=OverlayChain(overlays=[OverlayNonDecision(nondectime=0.2), OverlayUniformMixture(umixturecoef=0.02)]), dx=0.005, dt=0.005, T_dur=2.0) loss=40694.96974725012\n",
      "Info: Model(name='', drift=DriftConstant(drift=Fitted(-0.4599280733790414, minval=-3, maxval=3)), noise=NoiseConstant(noise=1.0), bound=BoundConstant(B=1), IC=ICPointRatio(x0=0), overlay=OverlayChain(overlays=[OverlayNonDecision(nondectime=0.2), OverlayUniformMixture(umixturecoef=0.02)]), dx=0.005, dt=0.005, T_dur=2.0) loss=33024.33392527309\n",
      "Info: Model(name='', drift=DriftConstant(drift=Fitted(1.1746339728008404, minval=-3, maxval=3)), noise=NoiseConstant(noise=1.0), bound=BoundConstant(B=1), IC=ICPointRatio(x0=0), overlay=OverlayChain(overlays=[OverlayNonDecision(nondectime=0.2), OverlayUniformMixture(umixturecoef=0.02)]), dx=0.005, dt=0.005, T_dur=2.0) loss=38126.240449558376\n",
      "Info: Model(name='', drift=DriftConstant(drift=Fitted(-0.38525914186306276, minval=-3, maxval=3)), noise=NoiseConstant(noise=1.0), bound=BoundConstant(B=1), IC=ICPointRatio(x0=0), overlay=OverlayChain(overlays=[OverlayNonDecision(nondectime=0.2), OverlayUniformMixture(umixturecoef=0.02)]), dx=0.005, dt=0.005, T_dur=2.0) loss=32718.13545232714\n",
      "Info: Model(name='', drift=DriftConstant(drift=Fitted(-0.25993792983799213, minval=-3, maxval=3)), noise=NoiseConstant(noise=1.0), bound=BoundConstant(B=1), IC=ICPointRatio(x0=0), overlay=OverlayChain(overlays=[OverlayNonDecision(nondectime=0.2), OverlayUniformMixture(umixturecoef=0.02)]), dx=0.005, dt=0.005, T_dur=2.0) loss=32321.193706136648\n",
      "Info: Model(name='', drift=DriftConstant(drift=Fitted(-0.8027527292050911, minval=-3, maxval=3)), noise=NoiseConstant(noise=1.0), bound=BoundConstant(B=1), IC=ICPointRatio(x0=0), overlay=OverlayChain(overlays=[OverlayNonDecision(nondectime=0.2), OverlayUniformMixture(umixturecoef=0.02)]), dx=0.005, dt=0.005, T_dur=2.0) loss=35086.75944446257\n",
      "Info: Model(name='', drift=DriftConstant(drift=Fitted(-1.3548050382689893, minval=-3, maxval=3)), noise=NoiseConstant(noise=1.0), bound=BoundConstant(B=1), IC=ICPointRatio(x0=0), overlay=OverlayChain(overlays=[OverlayNonDecision(nondectime=0.2), OverlayUniformMixture(umixturecoef=0.02)]), dx=0.005, dt=0.005, T_dur=2.0) loss=40420.44176392868\n",
      "Info: Model(name='', drift=DriftConstant(drift=Fitted(0.4924794953755687, minval=-3, maxval=3)), noise=NoiseConstant(noise=1.0), bound=BoundConstant(B=1), IC=ICPointRatio(x0=0), overlay=OverlayChain(overlays=[OverlayNonDecision(nondectime=0.2), OverlayUniformMixture(umixturecoef=0.02)]), dx=0.005, dt=0.005, T_dur=2.0) loss=33032.22219496427\n",
      "Info: Model(name='', drift=DriftConstant(drift=Fitted(-0.89445592428126, minval=-3, maxval=3)), noise=NoiseConstant(noise=1.0), bound=BoundConstant(B=1), IC=ICPointRatio(x0=0), overlay=OverlayChain(overlays=[OverlayNonDecision(nondectime=0.2), OverlayUniformMixture(umixturecoef=0.02)]), dx=0.005, dt=0.005, T_dur=2.0) loss=35814.79026598056\n",
      "Info: Model(name='', drift=DriftConstant(drift=Fitted(-0.0485709085111008, minval=-3, maxval=3)), noise=NoiseConstant(noise=1.0), bound=BoundConstant(B=1), IC=ICPointRatio(x0=0), overlay=OverlayChain(overlays=[OverlayNonDecision(nondectime=0.2), OverlayUniformMixture(umixturecoef=0.02)]), dx=0.005, dt=0.005, T_dur=2.0) loss=31984.93982996362\n",
      "Info: Model(name='', drift=DriftConstant(drift=Fitted(-1.6130387558752486, minval=-3, maxval=3)), noise=NoiseConstant(noise=1.0), bound=BoundConstant(B=1), IC=ICPointRatio(x0=0), overlay=OverlayChain(overlays=[OverlayNonDecision(nondectime=0.2), OverlayUniformMixture(umixturecoef=0.02)]), dx=0.005, dt=0.005, T_dur=2.0) loss=43483.947012811164\n",
      "Info: Model(name='', drift=DriftConstant(drift=Fitted(0.06885146669574893, minval=-3, maxval=3)), noise=NoiseConstant(noise=1.0), bound=BoundConstant(B=1), IC=ICPointRatio(x0=0), overlay=OverlayChain(overlays=[OverlayNonDecision(nondectime=0.2), OverlayUniformMixture(umixturecoef=0.02)]), dx=0.005, dt=0.005, T_dur=2.0) loss=31979.112474182017\n",
      "Info: Model(name='', drift=DriftConstant(drift=Fitted(0.28941099620581734, minval=-3, maxval=3)), noise=NoiseConstant(noise=1.0), bound=BoundConstant(B=1), IC=ICPointRatio(x0=0), overlay=OverlayChain(overlays=[OverlayNonDecision(nondectime=0.2), OverlayUniformMixture(umixturecoef=0.02)]), dx=0.005, dt=0.005, T_dur=2.0) loss=32317.705742390837\n",
      "Info: Model(name='', drift=DriftConstant(drift=Fitted(0.2230015052607548, minval=-3, maxval=3)), noise=NoiseConstant(noise=1.0), bound=BoundConstant(B=1), IC=ICPointRatio(x0=0), overlay=OverlayChain(overlays=[OverlayNonDecision(nondectime=0.2), OverlayUniformMixture(umixturecoef=0.02)]), dx=0.005, dt=0.005, T_dur=2.0) loss=32167.759566040233\n",
      "Info: Model(name='', drift=DriftConstant(drift=Fitted(1.1677503070570934, minval=-3, maxval=3)), noise=NoiseConstant(noise=1.0), bound=BoundConstant(B=1), IC=ICPointRatio(x0=0), overlay=OverlayChain(overlays=[OverlayNonDecision(nondectime=0.2), OverlayUniformMixture(umixturecoef=0.02)]), dx=0.005, dt=0.005, T_dur=2.0) loss=38056.39784819384\n",
      "Info: Model(name='', drift=DriftConstant(drift=Fitted(0.18586732334877532, minval=-3, maxval=3)), noise=NoiseConstant(noise=1.0), bound=BoundConstant(B=1), IC=ICPointRatio(x0=0), overlay=OverlayChain(overlays=[OverlayNonDecision(nondectime=0.2), OverlayUniformMixture(umixturecoef=0.02)]), dx=0.005, dt=0.005, T_dur=2.0) loss=32101.939125439465\n",
      "Info: Model(name='', drift=DriftConstant(drift=Fitted(-0.1521385522017995, minval=-3, maxval=3)), noise=NoiseConstant(noise=1.0), bound=BoundConstant(B=1), IC=ICPointRatio(x0=0), overlay=OverlayChain(overlays=[OverlayNonDecision(nondectime=0.2), OverlayUniformMixture(umixturecoef=0.02)]), dx=0.005, dt=0.005, T_dur=2.0) loss=32097.37836513751\n",
      "Info: Model(name='', drift=DriftConstant(drift=Fitted(0.3546977872873718, minval=-3, maxval=3)), noise=NoiseConstant(noise=1.0), bound=BoundConstant(B=1), IC=ICPointRatio(x0=0), overlay=OverlayChain(overlays=[OverlayNonDecision(nondectime=0.2), OverlayUniformMixture(umixturecoef=0.02)]), dx=0.005, dt=0.005, T_dur=2.0) loss=32505.39530007088\n",
      "Info: Model(name='', drift=DriftConstant(drift=Fitted(-0.7512258518726684, minval=-3, maxval=3)), noise=NoiseConstant(noise=1.0), bound=BoundConstant(B=1), IC=ICPointRatio(x0=0), overlay=OverlayChain(overlays=[OverlayNonDecision(nondectime=0.2), OverlayUniformMixture(umixturecoef=0.02)]), dx=0.005, dt=0.005, T_dur=2.0) loss=34709.38634003515\n",
      "Info: Model(name='', drift=DriftConstant(drift=Fitted(-0.2527261153773005, minval=-3, maxval=3)), noise=NoiseConstant(noise=1.0), bound=BoundConstant(B=1), IC=ICPointRatio(x0=0), overlay=OverlayChain(overlays=[OverlayNonDecision(nondectime=0.2), OverlayUniformMixture(umixturecoef=0.02)]), dx=0.005, dt=0.005, T_dur=2.0) loss=32302.82232218739\n",
      "Info: Model(name='', drift=DriftConstant(drift=Fitted(0.7478917077188425, minval=-3, maxval=3)), noise=NoiseConstant(noise=1.0), bound=BoundConstant(B=1), IC=ICPointRatio(x0=0), overlay=OverlayChain(overlays=[OverlayNonDecision(nondectime=0.2), OverlayUniformMixture(umixturecoef=0.02)]), dx=0.005, dt=0.005, T_dur=2.0) loss=34472.16307400166\n",
      "Info: Model(name='', drift=DriftConstant(drift=Fitted(0.1766070870850447, minval=-3, maxval=3)), noise=NoiseConstant(noise=1.0), bound=BoundConstant(B=1), IC=ICPointRatio(x0=0), overlay=OverlayChain(overlays=[OverlayNonDecision(nondectime=0.2), OverlayUniformMixture(umixturecoef=0.02)]), dx=0.005, dt=0.005, T_dur=2.0) loss=32087.53981939791\n",
      "Info: Model(name='', drift=DriftConstant(drift=Fitted(-0.44699679636698286, minval=-3, maxval=3)), noise=NoiseConstant(noise=1.0), bound=BoundConstant(B=1), IC=ICPointRatio(x0=0), overlay=OverlayChain(overlays=[OverlayNonDecision(nondectime=0.2), OverlayUniformMixture(umixturecoef=0.02)]), dx=0.005, dt=0.005, T_dur=2.0) loss=32967.59155402661\n",
      "Info: Model(name='', drift=DriftConstant(drift=Fitted(0.034774342957403004, minval=-3, maxval=3)), noise=NoiseConstant(noise=1.0), bound=BoundConstant(B=1), IC=ICPointRatio(x0=0), overlay=OverlayChain(overlays=[OverlayNonDecision(nondectime=0.2), OverlayUniformMixture(umixturecoef=0.02)]), dx=0.005, dt=0.005, T_dur=2.0) loss=31967.487059519863\n",
      "Info: Model(name='', drift=DriftConstant(drift=Fitted(-0.522643605330709, minval=-3, maxval=3)), noise=NoiseConstant(noise=1.0), bound=BoundConstant(B=1), IC=ICPointRatio(x0=0), overlay=OverlayChain(overlays=[OverlayNonDecision(nondectime=0.2), OverlayUniformMixture(umixturecoef=0.02)]), dx=0.005, dt=0.005, T_dur=2.0) loss=33321.52647358753\n",
      "Info: Model(name='', drift=DriftConstant(drift=Fitted(-0.3867087017817902, minval=-3, maxval=3)), noise=NoiseConstant(noise=1.0), bound=BoundConstant(B=1), IC=ICPointRatio(x0=0), overlay=OverlayChain(overlays=[OverlayNonDecision(nondectime=0.2), OverlayUniformMixture(umixturecoef=0.02)]), dx=0.005, dt=0.005, T_dur=2.0) loss=32723.585314958567\n",
      "Info: Model(name='', drift=DriftConstant(drift=Fitted(-0.44699679636698253, minval=-3, maxval=3)), noise=NoiseConstant(noise=1.0), bound=BoundConstant(B=1), IC=ICPointRatio(x0=0), overlay=OverlayChain(overlays=[OverlayNonDecision(nondectime=0.2), OverlayUniformMixture(umixturecoef=0.02)]), dx=0.005, dt=0.005, T_dur=2.0) loss=32967.59155402661\n",
      "Info: Model(name='', drift=DriftConstant(drift=Fitted(0.14252996334669876, minval=-3, maxval=3)), noise=NoiseConstant(noise=1.0), bound=BoundConstant(B=1), IC=ICPointRatio(x0=0), overlay=OverlayChain(overlays=[OverlayNonDecision(nondectime=0.2), OverlayUniformMixture(umixturecoef=0.02)]), dx=0.005, dt=0.005, T_dur=2.0) loss=32041.476435030574\n",
      "Info: Model(name='', drift=DriftConstant(drift=Fitted(-0.4072271689443414, minval=-3, maxval=3)), noise=NoiseConstant(noise=1.0), bound=BoundConstant(B=1), IC=ICPointRatio(x0=0), overlay=OverlayChain(overlays=[OverlayNonDecision(nondectime=0.2), OverlayUniformMixture(umixturecoef=0.02)]), dx=0.005, dt=0.005, T_dur=2.0) loss=32802.82974830938\n",
      "Info: Model(name='', drift=DriftConstant(drift=Fitted(-0.33529540246205236, minval=-3, maxval=3)), noise=NoiseConstant(noise=1.0), bound=BoundConstant(B=1), IC=ICPointRatio(x0=0), overlay=OverlayChain(overlays=[OverlayNonDecision(nondectime=0.2), OverlayUniformMixture(umixturecoef=0.02)]), dx=0.005, dt=0.005, T_dur=2.0) loss=32542.279576306817\n",
      "Info: Model(name='', drift=DriftConstant(drift=Fitted(-0.044510404779785184, minval=-3, maxval=3)), noise=NoiseConstant(noise=1.0), bound=BoundConstant(B=1), IC=ICPointRatio(x0=0), overlay=OverlayChain(overlays=[OverlayNonDecision(nondectime=0.2), OverlayUniformMixture(umixturecoef=0.02)]), dx=0.005, dt=0.005, T_dur=2.0) loss=31982.580201337216\n",
      "Info: Model(name='', drift=DriftConstant(drift=Fitted(-0.4386068973313121, minval=-3, maxval=3)), noise=NoiseConstant(noise=1.0), bound=BoundConstant(B=1), IC=ICPointRatio(x0=0), overlay=OverlayChain(overlays=[OverlayNonDecision(nondectime=0.2), OverlayUniformMixture(umixturecoef=0.02)]), dx=0.005, dt=0.005, T_dur=2.0) loss=32931.60803603546\n",
      "Info: Model(name='', drift=DriftConstant(drift=Fitted(0.29789434604084764, minval=-3, maxval=3)), noise=NoiseConstant(noise=1.0), bound=BoundConstant(B=1), IC=ICPointRatio(x0=0), overlay=OverlayChain(overlays=[OverlayNonDecision(nondectime=0.2), OverlayUniformMixture(umixturecoef=0.02)]), dx=0.005, dt=0.005, T_dur=2.0) loss=32339.837612410305\n",
      "Info: Model(name='', drift=DriftConstant(drift=Fitted(-0.007800671423948247, minval=-3, maxval=3)), noise=NoiseConstant(noise=1.0), bound=BoundConstant(B=1), IC=ICPointRatio(x0=0), overlay=OverlayChain(overlays=[OverlayNonDecision(nondectime=0.2), OverlayUniformMixture(umixturecoef=0.02)]), dx=0.005, dt=0.005, T_dur=2.0) loss=31968.26423991403\n",
      "Info: Model(name='', drift=DriftConstant(drift=Fitted(0.07384438458842979, minval=-3, maxval=3)), noise=NoiseConstant(noise=1.0), bound=BoundConstant(B=1), IC=ICPointRatio(x0=0), overlay=OverlayChain(overlays=[OverlayNonDecision(nondectime=0.2), OverlayUniformMixture(umixturecoef=0.02)]), dx=0.005, dt=0.005, T_dur=2.0) loss=31981.730508767174\n",
      "Info: Model(name='', drift=DriftConstant(drift=Fitted(0.034774342957403004, minval=-3, maxval=3)), noise=NoiseConstant(noise=1.0), bound=BoundConstant(B=1), IC=ICPointRatio(x0=0), overlay=OverlayChain(overlays=[OverlayNonDecision(nondectime=0.2), OverlayUniformMixture(umixturecoef=0.02)]), dx=0.005, dt=0.005, T_dur=2.0) loss=31967.487059519863\n",
      "Info: Model(name='', drift=DriftConstant(drift=Fitted(0.034774352957403006, minval=-3, maxval=3)), noise=NoiseConstant(noise=1.0), bound=BoundConstant(B=1), IC=ICPointRatio(x0=0), overlay=OverlayChain(overlays=[OverlayNonDecision(nondectime=0.2), OverlayUniformMixture(umixturecoef=0.02)]), dx=0.005, dt=0.005, T_dur=2.0) loss=31967.487061333526\n",
      "Info: Model(name='', drift=DriftConstant(drift=Fitted(-3.0, minval=-3, maxval=3)), noise=NoiseConstant(noise=1.0), bound=BoundConstant(B=1), IC=ICPointRatio(x0=0), overlay=OverlayChain(overlays=[OverlayNonDecision(nondectime=0.2), OverlayUniformMixture(umixturecoef=0.02)]), dx=0.005, dt=0.005, T_dur=2.0) loss=58973.43562551759\n",
      "Info: Model(name='', drift=DriftConstant(drift=Fitted(-2.99999999, minval=-3, maxval=3)), noise=NoiseConstant(noise=1.0), bound=BoundConstant(B=1), IC=ICPointRatio(x0=0), overlay=OverlayChain(overlays=[OverlayNonDecision(nondectime=0.2), OverlayUniformMixture(umixturecoef=0.02)]), dx=0.005, dt=0.005, T_dur=2.0) loss=58973.43553711254\n",
      "Info: Model(name='', drift=DriftConstant(drift=Fitted(0.01961184434126498, minval=-3, maxval=3)), noise=NoiseConstant(noise=1.0), bound=BoundConstant(B=1), IC=ICPointRatio(x0=0), overlay=OverlayChain(overlays=[OverlayNonDecision(nondectime=0.2), OverlayUniformMixture(umixturecoef=0.02)]), dx=0.005, dt=0.005, T_dur=2.0) loss=31965.815047402728\n",
      "Info: Model(name='', drift=DriftConstant(drift=Fitted(0.019611854341264983, minval=-3, maxval=3)), noise=NoiseConstant(noise=1.0), bound=BoundConstant(B=1), IC=ICPointRatio(x0=0), overlay=OverlayChain(overlays=[OverlayNonDecision(nondectime=0.2), OverlayUniformMixture(umixturecoef=0.02)]), dx=0.005, dt=0.005, T_dur=2.0) loss=31965.815047794535\n",
      "Info: Model(name='', drift=DriftConstant(drift=Fitted(0.015433667918716839, minval=-3, maxval=3)), noise=NoiseConstant(noise=1.0), bound=BoundConstant(B=1), IC=ICPointRatio(x0=0), overlay=OverlayChain(overlays=[OverlayNonDecision(nondectime=0.2), OverlayUniformMixture(umixturecoef=0.02)]), dx=0.005, dt=0.005, T_dur=2.0) loss=31965.733195876517\n",
      "Info: Model(name='', drift=DriftConstant(drift=Fitted(0.015433677918716839, minval=-3, maxval=3)), noise=NoiseConstant(noise=1.0), bound=BoundConstant(B=1), IC=ICPointRatio(x0=0), overlay=OverlayChain(overlays=[OverlayNonDecision(nondectime=0.2), OverlayUniformMixture(umixturecoef=0.02)]), dx=0.005, dt=0.005, T_dur=2.0) loss=31965.73319587652\n",
      "Info: Model(name='', drift=DriftConstant(drift=Fitted(0.015433629123414946, minval=-3, maxval=3)), noise=NoiseConstant(noise=1.0), bound=BoundConstant(B=1), IC=ICPointRatio(x0=0), overlay=OverlayChain(overlays=[OverlayNonDecision(nondectime=0.2), OverlayUniformMixture(umixturecoef=0.02)]), dx=0.005, dt=0.005, T_dur=2.0) loss=31965.733195876513\n",
      "Info: Model(name='', drift=DriftConstant(drift=Fitted(0.015433639123414946, minval=-3, maxval=3)), noise=NoiseConstant(noise=1.0), bound=BoundConstant(B=1), IC=ICPointRatio(x0=0), overlay=OverlayChain(overlays=[OverlayNonDecision(nondectime=0.2), OverlayUniformMixture(umixturecoef=0.02)]), dx=0.005, dt=0.005, T_dur=2.0) loss=31965.733195876513\n",
      "Info: Params [0.01543363] gave 31965.733195876513\n"
     ]
    },
    {
     "name": "stdout",
     "output_type": "stream",
     "text": [
      "differential_evolution step 1: f(x)= 32034.01870900473\n",
      "differential_evolution step 2: f(x)= 31979.112474182017\n",
      "differential_evolution step 3: f(x)= 31967.487059519863\n",
      "Polishing solution with 'L-BFGS-B'\n",
      "Model information:\n",
      "Choices: 'correct' (upper boundary), 'error' (lower boundary)\n",
      "Drift component DriftConstant:\n",
      "    constant\n",
      "    Fitted parameters:\n",
      "    - drift: 0.015434\n",
      "Noise component NoiseConstant:\n",
      "    constant\n",
      "    Fixed parameters:\n",
      "    - noise: 1.000000\n",
      "Bound component BoundConstant:\n",
      "    constant\n",
      "    Fixed parameters:\n",
      "    - B: 1.000000\n",
      "IC component ICPointRatio:\n",
      "    An arbitrary starting point expressed as a proportion of the distance between the bounds.\n",
      "    Fixed parameters:\n",
      "    - x0: 0.000000\n",
      "Overlay component OverlayChain:\n",
      "    Overlay component OverlayNonDecision:\n",
      "        Add a non-decision by shifting the histogram\n",
      "        Fixed parameters:\n",
      "        - nondectime: 0.200000\n",
      "    Overlay component OverlayUniformMixture:\n",
      "        Uniform distribution mixture model\n",
      "        Fixed parameters:\n",
      "        - umixturecoef: 0.020000\n",
      "Fit information:\n",
      "    Loss function: BIC\n",
      "    Loss function value: 31965.733195876513\n",
      "    Fitting method: differential_evolution\n",
      "    Solver: auto\n",
      "    Other properties:\n",
      "        - nparams: 1\n",
      "        - samplesize: 10000\n",
      "        - mess: ''\n",
      "\n"
     ]
    }
   ],
   "source": [
    "model_to_fit.fit(samp_simulated, lossfunction=pyddm.LossBIC, verbose=True)\n",
    "model_to_fit.show()"
   ]
  },
  {
   "cell_type": "markdown",
   "id": "22885d91",
   "metadata": {},
   "source": [
    "We should expect this fitting function to yield results close to that of our original model. There is variation in the drift coefficient `0.02489657` vs `0.00` from the original model due to randomness. \n",
    "\n",
    "To get closer to our ultimate goal of building an aDDM, we need to first understand how to use a function instead of a tuple range for drift rate. First, define the function, then, plug in the parameter as normal."
   ]
  },
  {
   "cell_type": "code",
   "execution_count": null,
   "id": "adf45603",
   "metadata": {},
   "outputs": [
    {
     "name": "stdout",
     "output_type": "stream",
     "text": [
      "Model information:\n",
      "Choices: 'correct' (upper boundary), 'error' (lower boundary)\n",
      "Drift component DriftEasy:\n",
      "    easy_drift\n",
      "    Fittable parameters:\n",
      "    - d: Fittable (default -0.160592)\n",
      "Noise component NoiseConstant:\n",
      "    constant\n",
      "    Fixed parameters:\n",
      "    - noise: 1.000000\n",
      "Bound component BoundConstant:\n",
      "    constant\n",
      "    Fixed parameters:\n",
      "    - B: 1.000000\n",
      "IC component ICPointRatio:\n",
      "    An arbitrary starting point expressed as a proportion of the distance between the bounds.\n",
      "    Fixed parameters:\n",
      "    - x0: 0.000000\n",
      "Overlay component OverlayChain:\n",
      "    Overlay component OverlayNonDecision:\n",
      "        Add a non-decision by shifting the histogram\n",
      "        Fixed parameters:\n",
      "        - nondectime: 0.000000\n",
      "    Overlay component OverlayUniformMixture:\n",
      "        Uniform distribution mixture model\n",
      "        Fixed parameters:\n",
      "        - umixturecoef: 0.020000\n",
      "\n"
     ]
    }
   ],
   "source": [
    "def drift_function(d):\n",
    "    return 2*d\n",
    "model_with_function = pyddm.gddm(drift=drift_function, \n",
    "                                 parameters={\"d\": (-1, 1)})\n",
    "model_with_function.show()"
   ]
  },
  {
   "cell_type": "markdown",
   "id": "c3c2edc5",
   "metadata": {},
   "source": [
    "While seemingly mundane, things can get complicated. This is a full example of PyDDM's manually defined model using some of its predefined Drift and Bound objects."
   ]
  },
  {
   "cell_type": "code",
   "execution_count": null,
   "id": "8853faa7",
   "metadata": {},
   "outputs": [],
   "source": [
    "from pyddm import Model\n",
    "from pyddm.models import NoiseConstant, ICPointSourceCenter, OverlayNonDecision\n",
    "from pyddm.models import Drift\n",
    "from pyddm.models import Bound\n",
    "\n",
    "class DriftExp(Drift):\n",
    "    name = \"Exponential time-dependent drift\"\n",
    "    required_parameters = [\"drift_rate\"]\n",
    "    def get_drift(self, x, t, conditions, **kwargs):\n",
    "        return self.drift_rate * np.exp(t)\n",
    "    \n",
    "class BoundCollapse(Bound):\n",
    "    name = \"Linearly collapsing bound\"\n",
    "    required_parameters = [\"bound_height\"]\n",
    "    def get_bound(self, t, conditions, **kwargs):\n",
    "        return max(self.bound_height - t, 0.25)\n",
    "\n",
    "model = Model(\n",
    "    drift=DriftExp(drift_rate=1.0),\n",
    "    bound=BoundCollapse(bound_height=1.0),\n",
    "    noise=NoiseConstant(noise=1.0),\n",
    "    IC=ICPointSourceCenter(),\n",
    "    overlay=OverlayNonDecision(nondectime=0.3),\n",
    "    dx=0.005, # stepwise in x\n",
    "    dt=0.005, # stepwise in time\n",
    "    T_dur=1.5 # maximum range of pdf that solver calculates for\n",
    ")"
   ]
  },
  {
   "cell_type": "code",
   "execution_count": null,
   "id": "ece8ea42",
   "metadata": {},
   "outputs": [
    {
     "data": {
      "image/png": "[encoded data removed]",
      "text/plain": [
       "<Figure size 640x480 with 1 Axes>"
      ]
     },
     "metadata": {},
     "output_type": "display_data"
    }
   ],
   "source": [
    "solution = model.solve()\n",
    "plt.plot(solution.t_domain, solution.pdf(\"correct\"))\n",
    "plt.show()"
   ]
  },
  {
   "cell_type": "markdown",
   "id": "8b75d5c0",
   "metadata": {},
   "source": [
    "## Attentional Drift Diffusion Model"
   ]
  },
  {
   "cell_type": "markdown",
   "id": "7718c349",
   "metadata": {},
   "source": [
    "Now we can work on the aDDM. There is already a pre-set format with `pyddm.gddm()`.\n",
    "\n",
    "Let us first generate some sample data before moving onto real data to get a sense of the structure."
   ]
  },
  {
   "cell_type": "code",
   "execution_count": 3,
   "id": "4ba122ed",
   "metadata": {},
   "outputs": [],
   "source": [
    "from fixations import *"
   ]
  },
  {
   "cell_type": "code",
   "execution_count": 3,
   "id": "8841b962",
   "metadata": {},
   "outputs": [
    {
     "data": {
      "text/html": [
       "<div>\n",
       "<style scoped>\n",
       "    .dataframe tbody tr th:only-of-type {\n",
       "        vertical-align: middle;\n",
       "    }\n",
       "\n",
       "    .dataframe tbody tr th {\n",
       "        vertical-align: top;\n",
       "    }\n",
       "\n",
       "    .dataframe thead th {\n",
       "        text-align: right;\n",
       "    }\n",
       "</style>\n",
       "<table border=\"1\" class=\"dataframe\">\n",
       "  <thead>\n",
       "    <tr style=\"text-align: right;\">\n",
       "      <th></th>\n",
       "      <th>choice</th>\n",
       "      <th>RT</th>\n",
       "      <th>avgWTP_left</th>\n",
       "      <th>avgWTP_right</th>\n",
       "      <th>fixation</th>\n",
       "    </tr>\n",
       "  </thead>\n",
       "  <tbody>\n",
       "    <tr>\n",
       "      <th>0</th>\n",
       "      <td>0</td>\n",
       "      <td>1.8</td>\n",
       "      <td>5.00</td>\n",
       "      <td>1.50</td>\n",
       "      <td>(0, 0, 0, 0, 0, 0, 1, 1, 1, 1, 1, 1, 1, 0, 0, ...</td>\n",
       "    </tr>\n",
       "    <tr>\n",
       "      <th>1</th>\n",
       "      <td>0</td>\n",
       "      <td>1.7</td>\n",
       "      <td>4.50</td>\n",
       "      <td>1.75</td>\n",
       "      <td>(1, 1, 1, 1, 1, 1, 1, 0, 0, 0, 0, 0, 0, 0, 0, 0)</td>\n",
       "    </tr>\n",
       "    <tr>\n",
       "      <th>2</th>\n",
       "      <td>0</td>\n",
       "      <td>1.7</td>\n",
       "      <td>4.75</td>\n",
       "      <td>1.00</td>\n",
       "      <td>(0, 0, 0, 0, 0, 0, 1, 1, 1, 1, 1, 0, 0, 0, 0, 0)</td>\n",
       "    </tr>\n",
       "    <tr>\n",
       "      <th>3</th>\n",
       "      <td>0</td>\n",
       "      <td>2.1</td>\n",
       "      <td>5.00</td>\n",
       "      <td>1.00</td>\n",
       "      <td>(1, 1, 1, 1, 1, 1, 1, 1, 1, 1, 1, 0, 0, 0, 0, ...</td>\n",
       "    </tr>\n",
       "    <tr>\n",
       "      <th>4</th>\n",
       "      <td>1</td>\n",
       "      <td>1.5</td>\n",
       "      <td>2.75</td>\n",
       "      <td>5.00</td>\n",
       "      <td>(0, 0, 0, 0, 0, 0, 1, 1, 1, 1, 1, 1, 1, 1)</td>\n",
       "    </tr>\n",
       "    <tr>\n",
       "      <th>...</th>\n",
       "      <td>...</td>\n",
       "      <td>...</td>\n",
       "      <td>...</td>\n",
       "      <td>...</td>\n",
       "      <td>...</td>\n",
       "    </tr>\n",
       "    <tr>\n",
       "      <th>355</th>\n",
       "      <td>0</td>\n",
       "      <td>0.6</td>\n",
       "      <td>4.25</td>\n",
       "      <td>1.50</td>\n",
       "      <td>(0, 0, 0, 0, 1, 1)</td>\n",
       "    </tr>\n",
       "    <tr>\n",
       "      <th>356</th>\n",
       "      <td>1</td>\n",
       "      <td>0.5</td>\n",
       "      <td>5.00</td>\n",
       "      <td>5.00</td>\n",
       "      <td>(1, 1, 0)</td>\n",
       "    </tr>\n",
       "    <tr>\n",
       "      <th>357</th>\n",
       "      <td>0</td>\n",
       "      <td>0.7</td>\n",
       "      <td>3.75</td>\n",
       "      <td>3.25</td>\n",
       "      <td>(0, 0, 1, 1, 1, 1)</td>\n",
       "    </tr>\n",
       "    <tr>\n",
       "      <th>358</th>\n",
       "      <td>0</td>\n",
       "      <td>0.8</td>\n",
       "      <td>2.00</td>\n",
       "      <td>2.75</td>\n",
       "      <td>(1, 0, 0, 0, 0, 0, 0)</td>\n",
       "    </tr>\n",
       "    <tr>\n",
       "      <th>359</th>\n",
       "      <td>1</td>\n",
       "      <td>0.7</td>\n",
       "      <td>3.75</td>\n",
       "      <td>5.00</td>\n",
       "      <td>(0, 0, 1, 1, 1, 1, 1)</td>\n",
       "    </tr>\n",
       "  </tbody>\n",
       "</table>\n",
       "<p>360 rows × 5 columns</p>\n",
       "</div>"
      ],
      "text/plain": [
       "     choice   RT  avgWTP_left  avgWTP_right  \\\n",
       "0         0  1.8         5.00          1.50   \n",
       "1         0  1.7         4.50          1.75   \n",
       "2         0  1.7         4.75          1.00   \n",
       "3         0  2.1         5.00          1.00   \n",
       "4         1  1.5         2.75          5.00   \n",
       "..      ...  ...          ...           ...   \n",
       "355       0  0.6         4.25          1.50   \n",
       "356       1  0.5         5.00          5.00   \n",
       "357       0  0.7         3.75          3.25   \n",
       "358       0  0.8         2.00          2.75   \n",
       "359       1  0.7         3.75          5.00   \n",
       "\n",
       "                                              fixation  \n",
       "0    (0, 0, 0, 0, 0, 0, 1, 1, 1, 1, 1, 1, 1, 0, 0, ...  \n",
       "1     (1, 1, 1, 1, 1, 1, 1, 0, 0, 0, 0, 0, 0, 0, 0, 0)  \n",
       "2     (0, 0, 0, 0, 0, 0, 1, 1, 1, 1, 1, 0, 0, 0, 0, 0)  \n",
       "3    (1, 1, 1, 1, 1, 1, 1, 1, 1, 1, 1, 0, 0, 0, 0, ...  \n",
       "4           (0, 0, 0, 0, 0, 0, 1, 1, 1, 1, 1, 1, 1, 1)  \n",
       "..                                                 ...  \n",
       "355                                 (0, 0, 0, 0, 1, 1)  \n",
       "356                                          (1, 1, 0)  \n",
       "357                                 (0, 0, 1, 1, 1, 1)  \n",
       "358                              (1, 0, 0, 0, 0, 0, 0)  \n",
       "359                              (0, 0, 1, 1, 1, 1, 1)  \n",
       "\n",
       "[360 rows x 5 columns]"
      ]
     },
     "execution_count": 3,
     "metadata": {},
     "output_type": "execute_result"
    }
   ],
   "source": [
    "path = '/Users/braydenchien/Desktop/Enkavilab/DDM'\n",
    "sub_id = '201'\n",
    "bin_size = 0.1\n",
    "create_samples_dataframe(path, sub_id, bin_size)"
   ]
  },
  {
   "cell_type": "code",
   "execution_count": 4,
   "id": "4a94ae8a",
   "metadata": {},
   "outputs": [],
   "source": [
    "import os\n",
    "\n",
    "def create_total_samples_dataframe_from_csv(path, batch_num):\n",
    "    df = pd.DataFrame({'choice': [], 'RT': [], 'avgWTP_left': [], 'avgWTP_right': [],'fixation': []})\n",
    "    for item in os.listdir(path):\n",
    "        if int(item[12]) == batch_num+1:\n",
    "            df = pd.concat([df, pd.read_csv(os.path.join(path, item))], ignore_index=True)\n",
    "    \n",
    "    return pyddm.Sample.from_pandas_dataframe(df, choice_column_name=\"choice\", rt_column_name=\"RT\", choice_names=(\"left\", \"right\"))"
   ]
  },
  {
   "cell_type": "code",
   "execution_count": 8,
   "id": "0aae46a7",
   "metadata": {},
   "outputs": [],
   "source": [
    "path = '/Users/braydenchien/Desktop/Enkavilab/DDM/samples'\n",
    "batch_num = 1\n",
    "sample = create_total_samples_dataframe_from_csv(path, batch_num)"
   ]
  },
  {
   "cell_type": "markdown",
   "id": "4e9daeee",
   "metadata": {},
   "source": [
    "The model follows, using the drift function idea from earlier. Something novel is the use of conditions. These are helpful in mapping the code to collected data. Since the aDDM introduces these additional elements, value, price, and fixation all effecting drift rate under Krajbich's hypothesis, they are conditions."
   ]
  },
  {
   "cell_type": "code",
   "execution_count": null,
   "id": "4d738167",
   "metadata": {},
   "outputs": [],
   "source": [
    "def drift_function(avgWTP_left, avgWTP_right, fixation, d, theta, t): # again, t is supplied internally\n",
    "    current_fixation = fixation[min(int(t//bin_size), len(fixation)-1)] # only needed because some RT's are longer than others\n",
    "    if current_fixation == 0:\n",
    "        return d * (avgWTP_left - avgWTP_right * theta)\n",
    "    else:\n",
    "        return -d * (avgWTP_right - avgWTP_left * theta)\n",
    "\n",
    "model = pyddm.gddm(drift=drift_function, noise=.1, bound=1, nondecision=0, mixture_coef=0.02,\n",
    "               parameters={\"d\": (0, 1), \"theta\": (0, 1)},\n",
    "               conditions=[\"avgWTP_left\", \"avgWTP_right\", \"fixation\"],\n",
    "               choice_names=(\"left\", \"right\"),\n",
    "               T_dur = 6,\n",
    "               dx = 0.001,\n",
    "               dt = 0.01\n",
    ")"
   ]
  },
  {
   "cell_type": "markdown",
   "id": "bac49045",
   "metadata": {},
   "source": [
    "Fit the model."
   ]
  },
  {
   "cell_type": "markdown",
   "id": "df8c3b5b",
   "metadata": {},
   "source": [
    "Since hidden and visual models should have starkly different values as hypothesized by the study, perhaps understanding the difference between their values will lead to better results.\n",
    "\n",
    "To do this, we will need to separate the hidden and visualized trials. The hidden trials are the first fourth and the third fourth. Meaning, in Batch 1, the hidden trials are trials 1-90, 181-270. In Batch 2, the hidden trials are trials 1-100, 201-300."
   ]
  }
 ],
 "metadata": {
  "kernelspec": {
   "display_name": "Python 3",
   "language": "python",
   "name": "python3"
  },
  "language_info": {
   "codemirror_mode": {
    "name": "ipython",
    "version": 3
   },
   "file_extension": ".py",
   "mimetype": "text/x-python",
   "name": "python",
   "nbconvert_exporter": "python",
   "pygments_lexer": "ipython3",
   "version": "3.9.6"
  }
 },
 "nbformat": 4,
 "nbformat_minor": 5
}
